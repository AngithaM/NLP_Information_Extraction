{
 "cells": [
  {
   "cell_type": "markdown",
   "metadata": {
    "id": "mHfQMjDnlACs"
   },
   "source": [
    "# Assignment 3 - CT5120/CT5146\n",
    "\n",
    "### Instructions:\n",
    "- Complete all the tasks below and upload your submission as a Python notebook on Blackboard with the filename “`StudentID_Lastname.ipynb`” before **23:59** on **December 31, 2021**. Please note that there will be no further extensions to this deadline and we highly encourage you to submit this assignment before Semester 1 exams.\n",
    "- This is an individual assignment, you **must not** work with other students to complete this assessment.\n",
    "- The assignment is worth $100$ marks and constitutes 19% of the final grade. The breakdown of the marking scheme for each task is as follows:\n",
    "\n",
    "|           | Task | Marks |\n",
    "| :---      | :-----| -----:|\n",
    "| Task 1    | Pre-processing |   15 |\n",
    "| Task 2    | Named Entity Recognition |    10 |\n",
    "| Task 3    | Information / Relation Extraction (I) | 30 |\n",
    "| Task 4    | Information / Relation Extraction (II) | 15 |\n",
    "| Task 5    | Combining information in the output   | 5 |\n",
    "| Task 6    | Evaluation (I) | 15 |\n",
    "| Task 7    | Evaluation (II) | 10 |\n",
    "\n"
   ]
  },
  {
   "cell_type": "markdown",
   "metadata": {
    "id": "mEpjx2qKnyBl"
   },
   "source": [
    "---\n",
    "\n",
    "## Information Extraction and Relation Extraction\n",
    "\n",
    "In the following tasks you will write code to perform **_information extraction_** and **_relation extraction_** across a collection of documents in `movies.zip`.\n",
    "\n",
    "The zip archive contains 100 files, out of which 50 are plaintext documents and other 50 contain data structured as JSON.\n",
    "Each plaintext document contains a text description of a movie taken from the English version of Wikipedia, while each JSON document contains *gold-standard* labels (also called *reference* labels) stored as key-value pairs for the entities and relations for each document.\n",
    "\n",
    "You are only allowed to use the given documents and labels and **must not** use any other external sources of data for this assignment."
   ]
  },
  {
   "cell_type": "markdown",
   "metadata": {
    "id": "64euw8hXygah"
   },
   "source": [
    "---\n",
    "\n",
    "Download and unarchive `movies.zip` from Blackboard and place it in the same location as this notebook or uncomment the code cell below to get the data in a directory called `movies` and also place it automatically in the same location as this notebook."
   ]
  },
  {
   "cell_type": "code",
   "execution_count": 4,
   "metadata": {
    "id": "OXzoZVNZyevs"
   },
   "outputs": [],
   "source": [
    "# !if test -f \"movies.zip\"; then rm \"movies.zip\"; fi\n",
    "# !if test -d \"movies/\"; then rm -rf \"movies/\"; fi\n",
    "# !wget \"https://drive.google.com/uc?export=download&id=1L6NcSGkubNJaL6xSnYEZZKSrlyXq1AbB\" -O \"movies.zip\"\n",
    "# !unzip \"movies.zip\""
   ]
  },
  {
   "cell_type": "markdown",
   "metadata": {
    "id": "mm1emJILzF5K"
   },
   "source": [
    "---\n",
    "\n",
    "## Reading Data\n",
    "\n",
    "Place the unzipped `movies` directory in the same location as this notebook and run the following code cell to read the plaintext and JSON documents."
   ]
  },
  {
   "cell_type": "code",
   "execution_count": 4,
   "metadata": {
    "ExecuteTime": {
     "end_time": "2021-12-31T15:19:16.674129Z",
     "start_time": "2021-12-31T15:19:16.665882Z"
    },
    "id": "P5hzct-HzUvJ"
   },
   "outputs": [],
   "source": [
    "######### DO NOT EDIT THIS CELL #########\n",
    "\n",
    "import os\n",
    "import json\n",
    "\n",
    "documents = []   # store the text documents as a list of strings\n",
    "labels = []      # store the gold-standard labels as a list of dictionaries\n",
    "\n",
    "for idx in range(3):\n",
    "  with open(os.path.join('movies', str(idx+1).zfill(2) + '.doc.txt'),encoding=\"utf8\") as f:\n",
    "    doc = f.read().strip()\n",
    "  with open(os.path.join('movies', str(idx+1).zfill(2) + '.info.json'),encoding=\"utf8\") as f:\n",
    "    label = json.load(f)\n",
    "\n",
    "  documents.append(doc)\n",
    "  labels.append(label)\n",
    "\n",
    "assert len(documents) == 3\n",
    "assert len(labels) == 3"
   ]
  },
  {
   "cell_type": "markdown",
   "metadata": {
    "id": "OnmnLhDyj2eG"
   },
   "source": [
    "---"
   ]
  },
  {
   "cell_type": "code",
   "execution_count": 5,
   "metadata": {
    "ExecuteTime": {
     "end_time": "2021-12-31T15:19:35.738952Z",
     "start_time": "2021-12-31T15:19:19.799348Z"
    },
    "id": "nPCKvyYFj0zG"
   },
   "outputs": [
    {
     "data": {
      "text/plain": [
       "True"
      ]
     },
     "execution_count": 5,
     "metadata": {},
     "output_type": "execute_result"
    }
   ],
   "source": [
    "# Load the libraries which might be useful\n",
    "\n",
    "import re\n",
    "import nltk\n",
    "nltk.download('all', quiet=True)"
   ]
  },
  {
   "cell_type": "markdown",
   "metadata": {
    "id": "899-kd7LmlFp"
   },
   "source": [
    "---\n",
    "\n",
    "## Task 1: Document Pre-processing (15 Marks)\n",
    "Write a function that takes a document and returns a list of sentences with part-of-speech tags.\n",
    "\n",
    "The expected output is a list of tagged sentences where each tagged sentence is a list containing `(token, tag)` pairs.\n"
   ]
  },
  {
   "cell_type": "code",
   "execution_count": 7,
   "metadata": {
    "ExecuteTime": {
     "end_time": "2021-12-31T15:19:41.999599Z",
     "start_time": "2021-12-31T15:19:41.971901Z"
    }
   },
   "outputs": [
    {
     "name": "stderr",
     "output_type": "stream",
     "text": [
      "[nltk_data] Downloading collection 'all'\n",
      "[nltk_data]    | \n",
      "[nltk_data]    | Downloading package abc to /Users/hema/nltk_data...\n",
      "[nltk_data]    |   Package abc is already up-to-date!\n",
      "[nltk_data]    | Downloading package alpino to\n",
      "[nltk_data]    |     /Users/hema/nltk_data...\n",
      "[nltk_data]    |   Package alpino is already up-to-date!\n",
      "[nltk_data]    | Downloading package biocreative_ppi to\n",
      "[nltk_data]    |     /Users/hema/nltk_data...\n",
      "[nltk_data]    |   Package biocreative_ppi is already up-to-date!\n",
      "[nltk_data]    | Downloading package brown to /Users/hema/nltk_data...\n",
      "[nltk_data]    |   Package brown is already up-to-date!\n",
      "[nltk_data]    | Downloading package brown_tei to\n",
      "[nltk_data]    |     /Users/hema/nltk_data...\n",
      "[nltk_data]    |   Package brown_tei is already up-to-date!\n",
      "[nltk_data]    | Downloading package cess_cat to\n",
      "[nltk_data]    |     /Users/hema/nltk_data...\n",
      "[nltk_data]    |   Package cess_cat is already up-to-date!\n",
      "[nltk_data]    | Downloading package cess_esp to\n",
      "[nltk_data]    |     /Users/hema/nltk_data...\n",
      "[nltk_data]    |   Package cess_esp is already up-to-date!\n",
      "[nltk_data]    | Downloading package chat80 to\n",
      "[nltk_data]    |     /Users/hema/nltk_data...\n",
      "[nltk_data]    |   Package chat80 is already up-to-date!\n",
      "[nltk_data]    | Downloading package city_database to\n",
      "[nltk_data]    |     /Users/hema/nltk_data...\n",
      "[nltk_data]    |   Package city_database is already up-to-date!\n",
      "[nltk_data]    | Downloading package cmudict to\n",
      "[nltk_data]    |     /Users/hema/nltk_data...\n",
      "[nltk_data]    |   Package cmudict is already up-to-date!\n",
      "[nltk_data]    | Downloading package comparative_sentences to\n",
      "[nltk_data]    |     /Users/hema/nltk_data...\n",
      "[nltk_data]    |   Package comparative_sentences is already up-to-\n",
      "[nltk_data]    |       date!\n",
      "[nltk_data]    | Downloading package comtrans to\n",
      "[nltk_data]    |     /Users/hema/nltk_data...\n",
      "[nltk_data]    |   Package comtrans is already up-to-date!\n",
      "[nltk_data]    | Downloading package conll2000 to\n",
      "[nltk_data]    |     /Users/hema/nltk_data...\n",
      "[nltk_data]    |   Package conll2000 is already up-to-date!\n",
      "[nltk_data]    | Downloading package conll2002 to\n",
      "[nltk_data]    |     /Users/hema/nltk_data...\n",
      "[nltk_data]    |   Package conll2002 is already up-to-date!\n",
      "[nltk_data]    | Downloading package conll2007 to\n",
      "[nltk_data]    |     /Users/hema/nltk_data...\n",
      "[nltk_data]    |   Package conll2007 is already up-to-date!\n",
      "[nltk_data]    | Downloading package crubadan to\n",
      "[nltk_data]    |     /Users/hema/nltk_data...\n",
      "[nltk_data]    |   Package crubadan is already up-to-date!\n",
      "[nltk_data]    | Downloading package dependency_treebank to\n",
      "[nltk_data]    |     /Users/hema/nltk_data...\n",
      "[nltk_data]    |   Package dependency_treebank is already up-to-date!\n",
      "[nltk_data]    | Downloading package dolch to /Users/hema/nltk_data...\n",
      "[nltk_data]    |   Package dolch is already up-to-date!\n",
      "[nltk_data]    | Downloading package europarl_raw to\n",
      "[nltk_data]    |     /Users/hema/nltk_data...\n",
      "[nltk_data]    |   Package europarl_raw is already up-to-date!\n",
      "[nltk_data]    | Downloading package floresta to\n",
      "[nltk_data]    |     /Users/hema/nltk_data...\n",
      "[nltk_data]    |   Package floresta is already up-to-date!\n",
      "[nltk_data]    | Downloading package framenet_v15 to\n",
      "[nltk_data]    |     /Users/hema/nltk_data...\n",
      "[nltk_data]    |   Package framenet_v15 is already up-to-date!\n",
      "[nltk_data]    | Downloading package framenet_v17 to\n",
      "[nltk_data]    |     /Users/hema/nltk_data...\n",
      "[nltk_data]    |   Package framenet_v17 is already up-to-date!\n",
      "[nltk_data]    | Downloading package gazetteers to\n",
      "[nltk_data]    |     /Users/hema/nltk_data...\n",
      "[nltk_data]    |   Package gazetteers is already up-to-date!\n",
      "[nltk_data]    | Downloading package genesis to\n",
      "[nltk_data]    |     /Users/hema/nltk_data...\n",
      "[nltk_data]    |   Package genesis is already up-to-date!\n",
      "[nltk_data]    | Downloading package gutenberg to\n",
      "[nltk_data]    |     /Users/hema/nltk_data...\n",
      "[nltk_data]    |   Package gutenberg is already up-to-date!\n",
      "[nltk_data]    | Downloading package ieer to /Users/hema/nltk_data...\n",
      "[nltk_data]    |   Package ieer is already up-to-date!\n",
      "[nltk_data]    | Downloading package inaugural to\n",
      "[nltk_data]    |     /Users/hema/nltk_data...\n",
      "[nltk_data]    |   Package inaugural is already up-to-date!\n",
      "[nltk_data]    | Downloading package indian to\n",
      "[nltk_data]    |     /Users/hema/nltk_data...\n",
      "[nltk_data]    |   Package indian is already up-to-date!\n",
      "[nltk_data]    | Downloading package jeita to /Users/hema/nltk_data...\n",
      "[nltk_data]    |   Package jeita is already up-to-date!\n",
      "[nltk_data]    | Downloading package kimmo to /Users/hema/nltk_data...\n",
      "[nltk_data]    |   Package kimmo is already up-to-date!\n",
      "[nltk_data]    | Downloading package knbc to /Users/hema/nltk_data...\n",
      "[nltk_data]    |   Package knbc is already up-to-date!\n",
      "[nltk_data]    | Downloading package lin_thesaurus to\n",
      "[nltk_data]    |     /Users/hema/nltk_data...\n",
      "[nltk_data]    |   Package lin_thesaurus is already up-to-date!\n",
      "[nltk_data]    | Downloading package mac_morpho to\n",
      "[nltk_data]    |     /Users/hema/nltk_data...\n",
      "[nltk_data]    |   Package mac_morpho is already up-to-date!\n",
      "[nltk_data]    | Downloading package machado to\n",
      "[nltk_data]    |     /Users/hema/nltk_data...\n",
      "[nltk_data]    |   Package machado is already up-to-date!\n",
      "[nltk_data]    | Downloading package masc_tagged to\n",
      "[nltk_data]    |     /Users/hema/nltk_data...\n",
      "[nltk_data]    |   Package masc_tagged is already up-to-date!\n",
      "[nltk_data]    | Downloading package moses_sample to\n",
      "[nltk_data]    |     /Users/hema/nltk_data...\n",
      "[nltk_data]    |   Package moses_sample is already up-to-date!\n",
      "[nltk_data]    | Downloading package movie_reviews to\n",
      "[nltk_data]    |     /Users/hema/nltk_data...\n",
      "[nltk_data]    |   Package movie_reviews is already up-to-date!\n",
      "[nltk_data]    | Downloading package names to /Users/hema/nltk_data...\n",
      "[nltk_data]    |   Package names is already up-to-date!\n",
      "[nltk_data]    | Downloading package nombank.1.0 to\n",
      "[nltk_data]    |     /Users/hema/nltk_data...\n",
      "[nltk_data]    |   Package nombank.1.0 is already up-to-date!\n",
      "[nltk_data]    | Downloading package nps_chat to\n",
      "[nltk_data]    |     /Users/hema/nltk_data...\n",
      "[nltk_data]    |   Package nps_chat is already up-to-date!\n",
      "[nltk_data]    | Downloading package omw-1.4 to\n",
      "[nltk_data]    |     /Users/hema/nltk_data...\n",
      "[nltk_data]    |   Package omw-1.4 is already up-to-date!\n",
      "[nltk_data]    | Downloading package omw to /Users/hema/nltk_data...\n",
      "[nltk_data]    |   Package omw is already up-to-date!\n",
      "[nltk_data]    | Downloading package opinion_lexicon to\n",
      "[nltk_data]    |     /Users/hema/nltk_data...\n",
      "[nltk_data]    |   Package opinion_lexicon is already up-to-date!\n",
      "[nltk_data]    | Downloading package paradigms to\n",
      "[nltk_data]    |     /Users/hema/nltk_data...\n",
      "[nltk_data]    |   Package paradigms is already up-to-date!\n",
      "[nltk_data]    | Downloading package pil to /Users/hema/nltk_data...\n",
      "[nltk_data]    |   Package pil is already up-to-date!\n",
      "[nltk_data]    | Downloading package pl196x to\n",
      "[nltk_data]    |     /Users/hema/nltk_data...\n",
      "[nltk_data]    |   Package pl196x is already up-to-date!\n",
      "[nltk_data]    | Downloading package ppattach to\n",
      "[nltk_data]    |     /Users/hema/nltk_data...\n",
      "[nltk_data]    |   Package ppattach is already up-to-date!\n",
      "[nltk_data]    | Downloading package problem_reports to\n",
      "[nltk_data]    |     /Users/hema/nltk_data...\n",
      "[nltk_data]    |   Package problem_reports is already up-to-date!\n",
      "[nltk_data]    | Downloading package propbank to\n",
      "[nltk_data]    |     /Users/hema/nltk_data...\n",
      "[nltk_data]    |   Package propbank is already up-to-date!\n",
      "[nltk_data]    | Downloading package ptb to /Users/hema/nltk_data...\n",
      "[nltk_data]    |   Package ptb is already up-to-date!\n",
      "[nltk_data]    | Downloading package product_reviews_1 to\n",
      "[nltk_data]    |     /Users/hema/nltk_data...\n",
      "[nltk_data]    |   Package product_reviews_1 is already up-to-date!\n",
      "[nltk_data]    | Downloading package product_reviews_2 to\n",
      "[nltk_data]    |     /Users/hema/nltk_data...\n",
      "[nltk_data]    |   Package product_reviews_2 is already up-to-date!\n",
      "[nltk_data]    | Downloading package pros_cons to\n",
      "[nltk_data]    |     /Users/hema/nltk_data...\n",
      "[nltk_data]    |   Package pros_cons is already up-to-date!\n",
      "[nltk_data]    | Downloading package qc to /Users/hema/nltk_data...\n",
      "[nltk_data]    |   Package qc is already up-to-date!\n",
      "[nltk_data]    | Downloading package reuters to\n",
      "[nltk_data]    |     /Users/hema/nltk_data...\n",
      "[nltk_data]    |   Package reuters is already up-to-date!\n",
      "[nltk_data]    | Downloading package rte to /Users/hema/nltk_data...\n",
      "[nltk_data]    |   Package rte is already up-to-date!\n",
      "[nltk_data]    | Downloading package semcor to\n",
      "[nltk_data]    |     /Users/hema/nltk_data...\n",
      "[nltk_data]    |   Package semcor is already up-to-date!\n",
      "[nltk_data]    | Downloading package senseval to\n",
      "[nltk_data]    |     /Users/hema/nltk_data...\n",
      "[nltk_data]    |   Package senseval is already up-to-date!\n",
      "[nltk_data]    | Downloading package sentiwordnet to\n",
      "[nltk_data]    |     /Users/hema/nltk_data...\n",
      "[nltk_data]    |   Package sentiwordnet is already up-to-date!\n",
      "[nltk_data]    | Downloading package sentence_polarity to\n",
      "[nltk_data]    |     /Users/hema/nltk_data...\n",
      "[nltk_data]    |   Package sentence_polarity is already up-to-date!\n",
      "[nltk_data]    | Downloading package shakespeare to\n",
      "[nltk_data]    |     /Users/hema/nltk_data...\n",
      "[nltk_data]    |   Package shakespeare is already up-to-date!\n",
      "[nltk_data]    | Downloading package sinica_treebank to\n",
      "[nltk_data]    |     /Users/hema/nltk_data...\n",
      "[nltk_data]    |   Package sinica_treebank is already up-to-date!\n",
      "[nltk_data]    | Downloading package smultron to\n",
      "[nltk_data]    |     /Users/hema/nltk_data...\n",
      "[nltk_data]    |   Package smultron is already up-to-date!\n",
      "[nltk_data]    | Downloading package state_union to\n",
      "[nltk_data]    |     /Users/hema/nltk_data...\n",
      "[nltk_data]    |   Package state_union is already up-to-date!\n",
      "[nltk_data]    | Downloading package stopwords to\n",
      "[nltk_data]    |     /Users/hema/nltk_data...\n",
      "[nltk_data]    |   Package stopwords is already up-to-date!\n",
      "[nltk_data]    | Downloading package subjectivity to\n",
      "[nltk_data]    |     /Users/hema/nltk_data...\n",
      "[nltk_data]    |   Package subjectivity is already up-to-date!\n",
      "[nltk_data]    | Downloading package swadesh to\n",
      "[nltk_data]    |     /Users/hema/nltk_data...\n",
      "[nltk_data]    |   Package swadesh is already up-to-date!\n",
      "[nltk_data]    | Downloading package switchboard to\n",
      "[nltk_data]    |     /Users/hema/nltk_data...\n",
      "[nltk_data]    |   Package switchboard is already up-to-date!\n",
      "[nltk_data]    | Downloading package timit to /Users/hema/nltk_data...\n",
      "[nltk_data]    |   Package timit is already up-to-date!\n",
      "[nltk_data]    | Downloading package toolbox to\n",
      "[nltk_data]    |     /Users/hema/nltk_data...\n",
      "[nltk_data]    |   Package toolbox is already up-to-date!\n",
      "[nltk_data]    | Downloading package treebank to\n",
      "[nltk_data]    |     /Users/hema/nltk_data...\n",
      "[nltk_data]    |   Package treebank is already up-to-date!\n",
      "[nltk_data]    | Downloading package twitter_samples to\n",
      "[nltk_data]    |     /Users/hema/nltk_data...\n",
      "[nltk_data]    |   Package twitter_samples is already up-to-date!\n",
      "[nltk_data]    | Downloading package udhr to /Users/hema/nltk_data...\n",
      "[nltk_data]    |   Package udhr is already up-to-date!\n",
      "[nltk_data]    | Downloading package udhr2 to /Users/hema/nltk_data...\n",
      "[nltk_data]    |   Package udhr2 is already up-to-date!\n",
      "[nltk_data]    | Downloading package unicode_samples to\n",
      "[nltk_data]    |     /Users/hema/nltk_data...\n",
      "[nltk_data]    |   Package unicode_samples is already up-to-date!\n",
      "[nltk_data]    | Downloading package universal_treebanks_v20 to\n",
      "[nltk_data]    |     /Users/hema/nltk_data...\n",
      "[nltk_data]    |   Package universal_treebanks_v20 is already up-to-\n",
      "[nltk_data]    |       date!\n",
      "[nltk_data]    | Downloading package verbnet to\n",
      "[nltk_data]    |     /Users/hema/nltk_data...\n",
      "[nltk_data]    |   Package verbnet is already up-to-date!\n",
      "[nltk_data]    | Downloading package verbnet3 to\n",
      "[nltk_data]    |     /Users/hema/nltk_data...\n",
      "[nltk_data]    |   Package verbnet3 is already up-to-date!\n",
      "[nltk_data]    | Downloading package webtext to\n",
      "[nltk_data]    |     /Users/hema/nltk_data...\n",
      "[nltk_data]    |   Package webtext is already up-to-date!\n",
      "[nltk_data]    | Downloading package wordnet to\n",
      "[nltk_data]    |     /Users/hema/nltk_data...\n",
      "[nltk_data]    |   Package wordnet is already up-to-date!\n",
      "[nltk_data]    | Downloading package wordnet31 to\n",
      "[nltk_data]    |     /Users/hema/nltk_data...\n",
      "[nltk_data]    |   Package wordnet31 is already up-to-date!\n",
      "[nltk_data]    | Downloading package wordnet_ic to\n",
      "[nltk_data]    |     /Users/hema/nltk_data...\n",
      "[nltk_data]    |   Package wordnet_ic is already up-to-date!\n",
      "[nltk_data]    | Downloading package words to /Users/hema/nltk_data...\n",
      "[nltk_data]    |   Package words is already up-to-date!\n",
      "[nltk_data]    | Downloading package ycoe to /Users/hema/nltk_data...\n",
      "[nltk_data]    |   Package ycoe is already up-to-date!\n",
      "[nltk_data]    | Downloading package rslp to /Users/hema/nltk_data...\n",
      "[nltk_data]    |   Package rslp is already up-to-date!\n",
      "[nltk_data]    | Downloading package maxent_treebank_pos_tagger to\n",
      "[nltk_data]    |     /Users/hema/nltk_data...\n",
      "[nltk_data]    |   Package maxent_treebank_pos_tagger is already up-\n",
      "[nltk_data]    |       to-date!\n",
      "[nltk_data]    | Downloading package universal_tagset to\n",
      "[nltk_data]    |     /Users/hema/nltk_data...\n",
      "[nltk_data]    |   Package universal_tagset is already up-to-date!\n",
      "[nltk_data]    | Downloading package maxent_ne_chunker to\n",
      "[nltk_data]    |     /Users/hema/nltk_data...\n",
      "[nltk_data]    |   Package maxent_ne_chunker is already up-to-date!\n",
      "[nltk_data]    | Downloading package punkt to /Users/hema/nltk_data...\n",
      "[nltk_data]    |   Package punkt is already up-to-date!\n",
      "[nltk_data]    | Downloading package book_grammars to\n",
      "[nltk_data]    |     /Users/hema/nltk_data...\n",
      "[nltk_data]    |   Package book_grammars is already up-to-date!\n",
      "[nltk_data]    | Downloading package sample_grammars to\n",
      "[nltk_data]    |     /Users/hema/nltk_data...\n",
      "[nltk_data]    |   Package sample_grammars is already up-to-date!\n",
      "[nltk_data]    | Downloading package spanish_grammars to\n",
      "[nltk_data]    |     /Users/hema/nltk_data...\n",
      "[nltk_data]    |   Package spanish_grammars is already up-to-date!\n",
      "[nltk_data]    | Downloading package basque_grammars to\n",
      "[nltk_data]    |     /Users/hema/nltk_data...\n",
      "[nltk_data]    |   Package basque_grammars is already up-to-date!\n",
      "[nltk_data]    | Downloading package large_grammars to\n",
      "[nltk_data]    |     /Users/hema/nltk_data...\n",
      "[nltk_data]    |   Package large_grammars is already up-to-date!\n",
      "[nltk_data]    | Downloading package tagsets to\n",
      "[nltk_data]    |     /Users/hema/nltk_data...\n",
      "[nltk_data]    |   Package tagsets is already up-to-date!\n",
      "[nltk_data]    | Downloading package snowball_data to\n",
      "[nltk_data]    |     /Users/hema/nltk_data...\n",
      "[nltk_data]    |   Package snowball_data is already up-to-date!\n",
      "[nltk_data]    | Downloading package bllip_wsj_no_aux to\n",
      "[nltk_data]    |     /Users/hema/nltk_data...\n",
      "[nltk_data]    |   Package bllip_wsj_no_aux is already up-to-date!\n",
      "[nltk_data]    | Downloading package word2vec_sample to\n",
      "[nltk_data]    |     /Users/hema/nltk_data...\n",
      "[nltk_data]    |   Package word2vec_sample is already up-to-date!\n",
      "[nltk_data]    | Downloading package panlex_swadesh to\n",
      "[nltk_data]    |     /Users/hema/nltk_data...\n",
      "[nltk_data]    |   Package panlex_swadesh is already up-to-date!\n",
      "[nltk_data]    | Downloading package mte_teip5 to\n",
      "[nltk_data]    |     /Users/hema/nltk_data...\n",
      "[nltk_data]    |   Package mte_teip5 is already up-to-date!\n",
      "[nltk_data]    | Downloading package averaged_perceptron_tagger to\n",
      "[nltk_data]    |     /Users/hema/nltk_data...\n",
      "[nltk_data]    |   Package averaged_perceptron_tagger is already up-\n",
      "[nltk_data]    |       to-date!\n",
      "[nltk_data]    | Downloading package averaged_perceptron_tagger_ru to\n",
      "[nltk_data]    |     /Users/hema/nltk_data...\n",
      "[nltk_data]    |   Package averaged_perceptron_tagger_ru is already\n",
      "[nltk_data]    |       up-to-date!\n",
      "[nltk_data]    | Downloading package perluniprops to\n",
      "[nltk_data]    |     /Users/hema/nltk_data...\n",
      "[nltk_data]    |   Package perluniprops is already up-to-date!\n",
      "[nltk_data]    | Downloading package nonbreaking_prefixes to\n",
      "[nltk_data]    |     /Users/hema/nltk_data...\n",
      "[nltk_data]    |   Package nonbreaking_prefixes is already up-to-date!\n",
      "[nltk_data]    | Downloading package vader_lexicon to\n",
      "[nltk_data]    |     /Users/hema/nltk_data...\n",
      "[nltk_data]    |   Package vader_lexicon is already up-to-date!\n",
      "[nltk_data]    | Downloading package porter_test to\n",
      "[nltk_data]    |     /Users/hema/nltk_data...\n",
      "[nltk_data]    |   Package porter_test is already up-to-date!\n",
      "[nltk_data]    | Downloading package wmt15_eval to\n",
      "[nltk_data]    |     /Users/hema/nltk_data...\n",
      "[nltk_data]    |   Package wmt15_eval is already up-to-date!\n",
      "[nltk_data]    | Downloading package mwa_ppdb to\n",
      "[nltk_data]    |     /Users/hema/nltk_data...\n",
      "[nltk_data]    |   Package mwa_ppdb is already up-to-date!\n",
      "[nltk_data]    | \n",
      "[nltk_data]  Done downloading collection all\n"
     ]
    },
    {
     "data": {
      "text/plain": [
       "True"
      ]
     },
     "execution_count": 7,
     "metadata": {},
     "output_type": "execute_result"
    }
   ],
   "source": [
    "import nltk\n",
    "nltk.download('all')"
   ]
  },
  {
   "cell_type": "code",
   "execution_count": 8,
   "metadata": {
    "ExecuteTime": {
     "end_time": "2021-12-31T15:19:46.698961Z",
     "start_time": "2021-12-31T15:19:46.692861Z"
    }
   },
   "outputs": [
    {
     "data": {
      "text/plain": [
       "'Star Wars (retroactively titled Star Wars: Episode IV - A New Hope) is a 1977 American epic space-opera film written and directed by George Lucas, produced by Lucasfilm and distributed by 20th Century Fox. It stars Mark Hamill, Harrison Ford, Carrie Fisher, Peter Cushing, Alec Guinness, David Prowse, James Earl Jones, Anthony Daniels, Kenny Baker and Peter Mayhew. It is the first installment of the original Star Wars trilogy, the first of the franchise to be produced, and the fourth episode of the \"Skywalker saga\". Lucas had the idea for a science-fiction film in the vein of Flash Gordon around the time he completed his first film, THX 1138 (1971) and began working on a treatment after the release of American Graffiti (1973). Star Wars takes place \"a long time ago\", in a fictional universe inhabited by both humans and various alien species; most of the known galaxy is ruled by the tyrannical Galactic Empire, which is only opposed by the Rebel Alliance, a group of freedom fighters. The narrative of the film focuses on the hero journey of Luke Skywalker (Hamill), an everyman who becomes caught in the galactic conflict between the Empire and the Rebellion after coming into possession of two droids, R2-D2 (Baker) and C-3PO (Daniels), who are carrying the schematics of the Empire\\'s ultimate weapon, the Death Star. While attempting to deliver the droids to the Rebellion, Luke is joined by wizened Jedi Master Obi-Wan Kenobi (Guinness), who teaches him about the metaphysical power known as \"the Force\", cynical smuggler Han Solo (Ford), his Wookiee companion Chewbacca (Mayhew), and Rebellion leader Princess Leia (Fisher). Meanwhile, Imperial officers Darth Vader (Prowse, voiced by Jones), a Sith Lord, and Grand Moff Tarkin (Cushing), the commander of the Death Star, seek to retrieve the stolen schematics and locate the Rebellion\\'s secret base. After a turbulent production, Star Wars was released in a limited number of theaters in the United States on May 25, 1977, and quickly became a blockbuster hit, leading to it being expanded to a much wider release. The film opened to critical acclaim, most notably for its groundbreaking visual effects. It grossed a total of $775 million (over $550 million during its initial run), surpassing Jaws (1975) to become the highest-grossing film at the time until the release of E.T. the Extra-Terrestrial (1982). When adjusted for inflation, Star Wars is the second-highest-grossing film in North America (behind Gone with the Wind) and the fourth-highest-grossing film in the world. It received ten Oscar nominations (including Best Picture), winning seven. In 1989, it became one of the first 25 films that was selected by the U.S. Library of Congress for preservation in the National Film Registry for being \"culturally, historically, or aesthetically significant\". At the time, it was the most recent film in the registry and the only one chosen from the 1970s. In 2004, its soundtrack was added to the U.S. National Recording Registry, and was additionally listed by the American Film Institute as the best movie score of all time a year later. Today, it is widely regarded by many in the motion picture industry as one of the greatest and most important films in cinema history. The film has been reissued multiple times with Lucas\\'s support-most significantly with its 20th-anniversary theatrical \"Special Edition\"-incorporating many changes including modified computer-generated effects, altered dialogue, re-edited shots, remixed soundtracks and added scenes. The film became a pop-cultural phenomenon and launched an industry of tie-in products, including novels, comics, video games, amusement park attractions, and merchandise including toys, games, clothing and many other spin-off works.The film\\'s success led to two critically and commercially successful sequels, The Empire Strikes Back (1980) and Return of the Jedi (1983), and later to a prequel trilogy, a sequel trilogy, two anthology films and various spin-off TV series. On the recommendation of his friend Steven Spielberg, Lucas hired composer John Williams. Williams had worked with Spielberg on the film Jaws, for which he won an Academy Award. Lucas originally hired Williams to consult on music editing choices and to compose the source music for the music, telling Williams that he intends to use extant music.'"
      ]
     },
     "execution_count": 8,
     "metadata": {},
     "output_type": "execute_result"
    }
   ],
   "source": [
    "documents[0]"
   ]
  },
  {
   "cell_type": "code",
   "execution_count": 17,
   "metadata": {
    "ExecuteTime": {
     "end_time": "2021-12-31T15:30:29.460706Z",
     "start_time": "2021-12-31T15:30:29.455670Z"
    },
    "id": "dB8R43AklZxO"
   },
   "outputs": [],
   "source": [
    "def ie_preprocess(document):\n",
    "    '''Return a list of sentences tagged with part-of-speech tags for the given document.'''\n",
    "\n",
    "    tagged_sentences = []\n",
    "\n",
    "    # your code goes here\n",
    "    \n",
    "    # Step 1: Sentence segmentation.\n",
    "    sentences = nltk.sent_tokenize(document)\n",
    "    # Step 2: Tokenize sentences into words.\n",
    "    tokenized_sentences = [nltk.word_tokenize(sent) for sent in sentences]\n",
    "    # Step 3: POS tagging.\n",
    "    tagged_sentences = [nltk.pos_tag(sent) for sent in tokenized_sentences]\n",
    "    # return tagged\n",
    "    return tagged_sentences"
   ]
  },
  {
   "cell_type": "markdown",
   "metadata": {
    "id": "7KJLD-AMMvdq"
   },
   "source": [
    "Run the cell below to check if the output is formatted correctly.\n",
    "\n",
    "Expected output: `[('It', 'PRP'), ('received', 'VBD'), ('ten', 'JJ'), ('Oscar', 'NNP'), ('nominations', 'NNS'), ('(', '('), ('including', 'VBG'), ('Best', 'NNP'), ('Picture', 'NN'), (')', ')'), (',', ','), ('winning', 'VBG'), ('seven', 'CD'), ('.', '.')]`"
   ]
  },
  {
   "cell_type": "code",
   "execution_count": 18,
   "metadata": {
    "ExecuteTime": {
     "end_time": "2021-12-31T15:30:46.135047Z",
     "start_time": "2021-12-31T15:30:46.072605Z"
    },
    "id": "9sEQYa3TBDYE"
   },
   "outputs": [
    {
     "data": {
      "text/plain": [
       "[('It', 'PRP'),\n",
       " ('received', 'VBD'),\n",
       " ('ten', 'JJ'),\n",
       " ('Oscar', 'NNP'),\n",
       " ('nominations', 'NNS'),\n",
       " ('(', '('),\n",
       " ('including', 'VBG'),\n",
       " ('Best', 'NNP'),\n",
       " ('Picture', 'NN'),\n",
       " (')', ')'),\n",
       " (',', ','),\n",
       " ('winning', 'VBG'),\n",
       " ('seven', 'CD'),\n",
       " ('.', '.')]"
      ]
     },
     "execution_count": 18,
     "metadata": {},
     "output_type": "execute_result"
    }
   ],
   "source": [
    "# check output for Task 1\n",
    "ie_preprocess(documents[0])[-10]"
   ]
  },
  {
   "cell_type": "markdown",
   "metadata": {
    "id": "vgEPCLXmq8bC"
   },
   "source": [
    "## Task 2: Named Entity Recognition (10 Marks)\n",
    "\n",
    "Write a function that returns a list of all the named entities in a given document. The document here is structured as a list of sentences and tagged with part-of-speech tags.\n",
    "\n",
    "Hint: Set `binary = True` while calling the `ne_chunk` function."
   ]
  },
  {
   "cell_type": "code",
   "execution_count": 40,
   "metadata": {
    "ExecuteTime": {
     "end_time": "2021-12-31T15:59:05.640534Z",
     "start_time": "2021-12-31T15:59:05.633913Z"
    },
    "id": "qHKjz5TKp5uM"
   },
   "outputs": [],
   "source": [
    "def find_named_entities(tagged_document):\n",
    "   \n",
    "  # your code goes here\n",
    "    named_entities = []\n",
    "   \n",
    "    # Using for loop to find Named entities for one tagged sentence at a time\n",
    "    for i in range(len(tagged_document)):\n",
    "        \n",
    "        pos_tags=tagged_document[i]\n",
    "        \n",
    "        tree = nltk.ne_chunk(pos_tags, binary=True)\n",
    "\n",
    "        # find named entities\n",
    "        for subtree in tree.subtrees():\n",
    "            if subtree.label() == 'NE':\n",
    "                entity = \"\"\n",
    "                for leaf in subtree.leaves():\n",
    "                    entity = entity + leaf[0] + \" \"\n",
    "                named_entities.append(entity.strip())\n",
    "      #'''Return a list of all the named entities in the given tagged document.'''\n",
    "    return named_entities"
   ]
  },
  {
   "cell_type": "markdown",
   "metadata": {
    "id": "NvZNyV-ENDZc"
   },
   "source": [
    "Run the cell below to check if the output is formatted correctly.\n",
    "\n",
    "The output values might not match exactly, but should look similar to: `['Star Wars', 'Star Wars', 'New Hope', 'American', 'George Lucas', 'Lucasfilm', ...]`"
   ]
  },
  {
   "cell_type": "code",
   "execution_count": 43,
   "metadata": {
    "ExecuteTime": {
     "end_time": "2021-12-31T16:02:33.942030Z",
     "start_time": "2021-12-31T16:02:33.835472Z"
    },
    "id": "lnlqsKg7sk29"
   },
   "outputs": [
    {
     "data": {
      "text/plain": [
       "['Star Wars',\n",
       " 'Star Wars',\n",
       " 'New Hope',\n",
       " 'American',\n",
       " 'George Lucas',\n",
       " 'Lucasfilm',\n",
       " 'Century Fox',\n",
       " 'Mark Hamill',\n",
       " 'Harrison Ford',\n",
       " 'Carrie Fisher']"
      ]
     },
     "execution_count": 43,
     "metadata": {},
     "output_type": "execute_result"
    }
   ],
   "source": [
    "# check output for Task 2\n",
    "tagged_document = ie_preprocess(documents[0]) # pre-process the first document\n",
    "\n",
    "find_named_entities(tagged_document)[:10]     # display the first 10 named entities"
   ]
  },
  {
   "cell_type": "markdown",
   "metadata": {
    "id": "vmpuu0yvwI_X"
   },
   "source": [
    "## Task 3: Information / Relation Extraction (I) (30 Marks)\n",
    "\n",
    "Choose any **three** relations out of the following and write functions to extract them from a given document.\n",
    "\n",
    "* **Title**\n",
    "* **Language**\n",
    "* **Starring**\n",
    "* **Release date**\n",
    "* **Cinematography**\n",
    "* **Dialogue by**\n",
    "* **Directed by**\n",
    "* **Edited by**\n",
    "* **Music by**\n",
    "* **Narrated by**\n",
    "* **Produced by**\n",
    "* **Screenplay by**\n",
    "* **Story by**\n",
    "* **Written by**\n",
    "* **Production companies**\n",
    "* **Distribution companies**\n",
    "* **Budget**\n",
    "* **Box office**\n",
    "\n",
    "\n",
    "The functions you define here must take as input a string called `document` and return the information/relation extracted as a list. You can explain your approach with comments along with your code.\n"
   ]
  },
  {
   "cell_type": "code",
   "execution_count": 44,
   "metadata": {
    "ExecuteTime": {
     "end_time": "2022-01-02T22:20:40.538018Z",
     "start_time": "2022-01-02T22:20:40.525528Z"
    },
    "id": "Yw8YQAr-wwFM"
   },
   "outputs": [],
   "source": [
    "# relation 1 - your code goes here\n",
    "def relation1_title(document):\n",
    "    movie1=document\n",
    "    movie1sen1 = nltk.sent_tokenize(movie1)\n",
    "    new_title=[]\n",
    "    found=0\n",
    "   # print(movie1sen1[0])\n",
    "    sentence=movie1sen1[0]\n",
    "    pattern = r'(.*\\bis a)'\n",
    "    pattern_bracket=r'(.\\()'\n",
    "    titles = re.findall(pattern, sentence)\n",
    "    print('Result:', titles)\n",
    "    if titles:\n",
    "        found=1\n",
    "        pattern2 = r'(.*\\()'\n",
    "        new_title=re.findall(pattern2, titles[0])\n",
    "        #print(\"new_title \",  new_title)\n",
    "        title = titles[0]\n",
    "    else:\n",
    "        for sent in movie1sen1:\n",
    "            titlesen = re.findall(pattern, sent)\n",
    "            if titlesen:\n",
    "                title=first_NE(titlesen)\n",
    "                found=1\n",
    "                break\n",
    "        if found==0:\n",
    "            #print(\"not found\")\n",
    "            for sent in movie1sen1:\n",
    "                titles_new = re.find(pattern_bracket, sentence)\n",
    "                if titles_new:\n",
    "                    #print(\"found\",titles_new)\n",
    "                    found=1\n",
    "                    break\n",
    "    \n",
    "    if new_title:\n",
    "        title=title.replace(new_title[0],'')\n",
    "    if 'is a' in title:\n",
    "        title=title.replace(' is a','')\n",
    "    return title"
   ]
  },
  {
   "cell_type": "code",
   "execution_count": 58,
   "metadata": {
    "ExecuteTime": {
     "end_time": "2022-01-02T22:24:17.712301Z",
     "start_time": "2022-01-02T22:24:17.704246Z"
    }
   },
   "outputs": [
    {
     "name": "stdout",
     "output_type": "stream",
     "text": [
      "Result: ['The Dark Knight is a']\n"
     ]
    },
    {
     "data": {
      "text/plain": [
       "'The Dark Knight'"
      ]
     },
     "execution_count": 58,
     "metadata": {},
     "output_type": "execute_result"
    }
   ],
   "source": [
    "relation1_title(documents[2])"
   ]
  },
  {
   "cell_type": "code",
   "execution_count": 49,
   "metadata": {
    "ExecuteTime": {
     "end_time": "2022-01-02T22:22:33.163444Z",
     "start_time": "2022-01-02T22:22:33.156867Z"
    }
   },
   "outputs": [],
   "source": [
    "def first_NE(result):   \n",
    "    named_entities = []\n",
    "    tokens = nltk.word_tokenize(result[0])   # tokenization\n",
    "    pos_tags = nltk.pos_tag(tokens)         # pos-tagging\n",
    "    # chunking\n",
    "    tree = nltk.ne_chunk(pos_tags, binary=True)\n",
    "    for subtree in tree.subtrees():\n",
    "      if subtree.label() == 'NE':\n",
    "        entity = \"\"\n",
    "        for leaf in subtree.leaves():\n",
    "          entity = entity + leaf[0] + \" \"\n",
    "        named_entities.append(entity.strip()) \n",
    "    if named_entities:\n",
    "        return named_entities[0]\n",
    "    else:\n",
    "        return []"
   ]
  },
  {
   "cell_type": "code",
   "execution_count": 50,
   "metadata": {
    "ExecuteTime": {
     "end_time": "2022-01-02T22:22:34.062953Z",
     "start_time": "2022-01-02T22:22:34.057062Z"
    },
    "id": "16p4KMlVyQU3"
   },
   "outputs": [],
   "source": [
    "# relation 2 - your code goes here\n",
    "def relation2_directed(document):\n",
    "    result=[]\n",
    "    movie1=document\n",
    "    movie1sen1 = nltk.sent_tokenize(movie1)\n",
    "    pattern = r'(directed\\b.*|Directed\\b.*)'\n",
    "    for sent in movie1sen1:\n",
    "        results = re.findall(pattern, sent)\n",
    "        if results:\n",
    "            result=results\n",
    "            break\n",
    "   # print(result)\n",
    "    if result:\n",
    "        director=first_NE(result)\n",
    "    else:\n",
    "        director=[]\n",
    "    return director"
   ]
  },
  {
   "cell_type": "code",
   "execution_count": 51,
   "metadata": {
    "ExecuteTime": {
     "end_time": "2022-01-02T22:22:36.499918Z",
     "start_time": "2022-01-02T22:22:36.473880Z"
    }
   },
   "outputs": [
    {
     "data": {
      "text/plain": [
       "'Christopher Nolan'"
      ]
     },
     "execution_count": 51,
     "metadata": {},
     "output_type": "execute_result"
    }
   ],
   "source": [
    "relation2_directed(documents[2])"
   ]
  },
  {
   "cell_type": "code",
   "execution_count": 52,
   "metadata": {
    "ExecuteTime": {
     "end_time": "2022-01-02T22:22:50.012150Z",
     "start_time": "2022-01-02T22:22:50.004769Z"
    },
    "id": "x-LRnjy810ZR"
   },
   "outputs": [],
   "source": [
    "# relation 3 - your code goes here\n",
    "def relation3_produced(document):\n",
    "    result=[]\n",
    "    producer=[]\n",
    "    movie1=document\n",
    "    movie1sen1 = nltk.sent_tokenize(movie1)\n",
    "    pattern = r'(produced\\b.*|Produced\\b.*|Producers\\b.*|producers\\b.*)'\n",
    "    for sent in movie1sen1:\n",
    "        results = re.findall(pattern, sent)\n",
    "        if results:\n",
    "            result=results\n",
    "            break\n",
    "    if result:\n",
    "        producer=first_NE(result)\n",
    "    return producer"
   ]
  },
  {
   "cell_type": "code",
   "execution_count": 57,
   "metadata": {
    "ExecuteTime": {
     "end_time": "2022-01-02T22:23:56.966296Z",
     "start_time": "2022-01-02T22:23:56.954323Z"
    }
   },
   "outputs": [
    {
     "data": {
      "text/plain": [
       "'Christopher Nolan'"
      ]
     },
     "execution_count": 57,
     "metadata": {},
     "output_type": "execute_result"
    }
   ],
   "source": [
    "relation3_produced(documents[2])"
   ]
  },
  {
   "cell_type": "markdown",
   "metadata": {
    "id": "vuJmr-eKvrQ3"
   },
   "source": [
    "---\n",
    "\n",
    "## Task 4: Information / Relation Extraction (II)  (15 Marks)\n",
    "\n",
    "Identify one other relation of your choice, besides the ones mentioned in the previous task, and write a function to extract it. \n",
    "\n",
    "The function you define here must take as input a string called `document` and return the information/relations extracted as a list."
   ]
  },
  {
   "cell_type": "code",
   "execution_count": 55,
   "metadata": {
    "ExecuteTime": {
     "end_time": "2022-01-02T22:23:36.728873Z",
     "start_time": "2022-01-02T22:23:36.722302Z"
    },
    "id": "kncUM3pHvyAT"
   },
   "outputs": [],
   "source": [
    "# your code goes here\n",
    "def task4_Released_year(document):\n",
    "\n",
    "    movie1=document\n",
    "    movie1sen1 = nltk.sent_tokenize(movie1)\n",
    "    #print(movie1sen1[0])\n",
    "    sentence=movie1sen1[0]\n",
    "    pattern = r'(\\bis a [1-9][0-9]{3})'\n",
    "    results = re.findall(pattern, sentence)\n",
    "    #print('Result:', results)\n",
    "    if results:\n",
    "        year=results[0].replace('is a ','')\n",
    "    else:\n",
    "        for sent in movie1sen1:\n",
    "            yearPattern=r'(\\b[1-9][0-9]{3})'\n",
    "            year = re.findall(yearPattern, sent)\n",
    "            if year:\n",
    "                break\n",
    "    return year"
   ]
  },
  {
   "cell_type": "code",
   "execution_count": 56,
   "metadata": {
    "ExecuteTime": {
     "end_time": "2022-01-02T22:23:52.511743Z",
     "start_time": "2022-01-02T22:23:52.504766Z"
    }
   },
   "outputs": [
    {
     "data": {
      "text/plain": [
       "'2008'"
      ]
     },
     "execution_count": 56,
     "metadata": {},
     "output_type": "execute_result"
    }
   ],
   "source": [
    "task4_Released_year(documents[2])"
   ]
  },
  {
   "cell_type": "markdown",
   "metadata": {
    "id": "XIfQCd_Y1x5B"
   },
   "source": [
    "---\n",
    "\n",
    "## Task 5: Combining information in the output (5 Marks)\n",
    "\n",
    "Edit the function below to return a Python dictionary with the outputs from the functions defined in tasks $3 - 4$."
   ]
  },
  {
   "cell_type": "code",
   "execution_count": 62,
   "metadata": {
    "ExecuteTime": {
     "end_time": "2022-01-02T22:25:29.045967Z",
     "start_time": "2022-01-02T22:25:29.019054Z"
    },
    "id": "BE_8ptxp-1y4"
   },
   "outputs": [
    {
     "name": "stdout",
     "output_type": "stream",
     "text": [
      "Result: ['The Dark Knight is a']\n"
     ]
    },
    {
     "data": {
      "text/plain": [
       "{'Title': 'The Dark Knight',\n",
       " 'Directed by': 'Christopher Nolan',\n",
       " 'Produced by': 'Christopher Nolan',\n",
       " 'Task 4': '2008'}"
      ]
     },
     "execution_count": 62,
     "metadata": {},
     "output_type": "execute_result"
    }
   ],
   "source": [
    "def extract_info(document):\n",
    "  '''Extract information and relations from a given document.'''\n",
    "\n",
    "  # Edit the output dict below and assign the values to keys by \n",
    "  # calling the appropriate functions from Tasks 3 and 4.\n",
    "  \n",
    "  # You can delete the keys for which you do not perform extraction in Task 3.\n",
    "\n",
    "  output = {\n",
    "    ##### EDIT BELOW THIS LINE #####\n",
    "    \n",
    "    # For the relations you extract in Task 3, \n",
    "    # save the output in the appropriate key and delete rest of the keys.\n",
    "    \n",
    "    \"Title\": [],\n",
    "    \"Directed by\": [],\n",
    "    \"Produced by\": [],\n",
    "    # save the output from Task 4 here\n",
    "    \"Task 4\": [],\n",
    "\n",
    "    ##### EDIT ABOVE THIS LINE #####\n",
    "  }\n",
    "  output[\"Title\"]=relation1_title(document)\n",
    "  output[\"Directed by\"]=relation2_directed(document)\n",
    "  output[\"Produced by\"]=relation3_produced(document)\n",
    "  output[\"Task 4\"]=task4_Released_year(document)\n",
    "  return output\n",
    "\n",
    "\n",
    "# check output for the first document\n",
    "extract_info(documents[2])"
   ]
  },
  {
   "cell_type": "markdown",
   "metadata": {
    "id": "gHv5pRQ7BKJo"
   },
   "source": [
    "The output from the cell above should look something like the dictionary shown below. Overall values might be different, based on what four items you choose to extract in Tasks 3 and 4, but the structure should be similar.\n",
    "\n",
    "For example, if you choose to extract **Starring**, **Release Date**, **Box office**, and **Directed by**, then the output should look something like this for the first document:\n",
    "\n",
    "```javascript\n",
    "{\n",
    "  'Box office': ['$775 million'],\n",
    "  'Directed by': ['George Lucas'],\n",
    "  'Release date': ['May 25, 1977'],\n",
    "  'Starring': ['Mark Hamill', 'Harrison Ford', 'Carrie Fisher', \n",
    "               'Peter Cushing', 'David Prowse', 'James Earl Jones', ],\n",
    "}\n",
    "```"
   ]
  },
  {
   "cell_type": "markdown",
   "metadata": {
    "id": "qDMhFQq4fBnf"
   },
   "source": [
    "---\n",
    "\n",
    "## Task 6: Evaluation (I) (15 Marks)\n",
    "\n",
    "Write a function to evaluate the performance of Task $3$ using **Precision**, **Recall** and **F1** scores. Use the gold-standard labels provided in the JSON files to calculate these values.\n",
    "\n",
    "Please note that not all the information / relations mentioned in Task $3$ have associated labels for each and every movie in the JSON documents, i.e., some JSON documents will have certain keys-value pairs missing. For example, we have labels for *Budget* in 46 out of the 50 movies and in the remaining 4 documents, you will find that the key `Budget` is omitted from the JSON.\n",
    " \n",
    "Also keep in mind that we will further run this evaluation on a hidden test set containing similar movie descriptions."
   ]
  },
  {
   "cell_type": "code",
   "execution_count": null,
   "metadata": {
    "id": "OvJ9OhnDe7ML"
   },
   "outputs": [],
   "source": [
    "def evaluate(labels, predictions):\n",
    "  '''\n",
    "  Evaluate the performance of relation extraction \n",
    "  using Precision, Recall, and F1 scores.\n",
    "\n",
    "  Args:\n",
    "    labels: A list containing gold-standard labels\n",
    "    predictions: A list containing information extracted from documents\n",
    "  Returns:\n",
    "    scores: A dictionary containing Precision, Recall and F1 scores \n",
    "            for the information/relations extracted in Task 3.\n",
    "  '''\n",
    "\n",
    "  assert len(predictions) == len(labels)\n",
    "\n",
    "  scores = {\n",
    "      'precision': 0.0, 'recall': 0.0, 'f1': 0.0\n",
    "  }\n",
    "\n",
    "  # calculate the precision, recall and f1 score over the information fields \n",
    "  # corresponding to Task 3 and store the result in the `scores` dict.\n",
    "\n",
    "  # your code goes here\n",
    "  # ...\n",
    "\n",
    "\n",
    "\n",
    "  return scores"
   ]
  },
  {
   "cell_type": "markdown",
   "metadata": {
    "id": "lA39EbBCfRu6"
   },
   "source": [
    "---\n",
    "Run the cell below to calculate and display the evaluation scores for the 50 documents in `movies.zip`.\n",
    "\n",
    "You can consider the following as a baseline score. Your aim should be to score higher or atleast get as close as possible to these values.\n",
    "\n",
    "| Precision | Recall | F1    |\n",
    "| :---:     | :---:  | :---: |\n",
    "| 0.5       | 0.25   | 0.333 |"
   ]
  },
  {
   "cell_type": "code",
   "execution_count": null,
   "metadata": {
    "id": "CRxOd4dIfRu-"
   },
   "outputs": [],
   "source": [
    "# !pip install pandas\n",
    "import pandas as pd\n",
    "\n",
    "# calculate evaluation score across all the 50 documents\n",
    "extracted_infos = []\n",
    "for document in documents:\n",
    "  extracted_infos.append(extract_info(document))\n",
    "\n",
    "scores = evaluate(labels, extracted_infos)\n",
    "\n",
    "pd.DataFrame([scores])"
   ]
  },
  {
   "cell_type": "markdown",
   "metadata": {
    "id": "agNQPVqG5aoS"
   },
   "source": [
    "---\n",
    "\n",
    "## Task 7: Evaluation (II) (10 Marks)\n",
    "\n",
    "Describe **two** challenges you encountered above or might encounter in the evaluation of *information extraction* or *relation extraction* tasks.\n"
   ]
  },
  {
   "cell_type": "markdown",
   "metadata": {
    "id": "ZfdKI5J-fF1g"
   },
   "source": [
    "Edit this cell to write your answer below the line in no more than 100 words. No coding is required for this task.\n",
    "\n",
    "---\n",
    "\n",
    "> Delete this line and write your answer here."
   ]
  }
 ],
 "metadata": {
  "colab": {
   "collapsed_sections": [],
   "name": "Assignment 3.ipynb",
   "provenance": []
  },
  "kernelspec": {
   "display_name": "Python 3",
   "language": "python",
   "name": "python3"
  },
  "language_info": {
   "codemirror_mode": {
    "name": "ipython",
    "version": 3
   },
   "file_extension": ".py",
   "mimetype": "text/x-python",
   "name": "python",
   "nbconvert_exporter": "python",
   "pygments_lexer": "ipython3",
   "version": "3.8.8"
  },
  "toc": {
   "base_numbering": 1,
   "nav_menu": {},
   "number_sections": true,
   "sideBar": true,
   "skip_h1_title": false,
   "title_cell": "Table of Contents",
   "title_sidebar": "Contents",
   "toc_cell": false,
   "toc_position": {},
   "toc_section_display": true,
   "toc_window_display": false
  },
  "varInspector": {
   "cols": {
    "lenName": 16,
    "lenType": 16,
    "lenVar": 40
   },
   "kernels_config": {
    "python": {
     "delete_cmd_postfix": "",
     "delete_cmd_prefix": "del ",
     "library": "var_list.py",
     "varRefreshCmd": "print(var_dic_list())"
    },
    "r": {
     "delete_cmd_postfix": ") ",
     "delete_cmd_prefix": "rm(",
     "library": "var_list.r",
     "varRefreshCmd": "cat(var_dic_list()) "
    }
   },
   "types_to_exclude": [
    "module",
    "function",
    "builtin_function_or_method",
    "instance",
    "_Feature"
   ],
   "window_display": false
  }
 },
 "nbformat": 4,
 "nbformat_minor": 4
}
